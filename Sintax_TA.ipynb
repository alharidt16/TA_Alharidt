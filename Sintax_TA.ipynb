{
 "cells": [
  {
   "cell_type": "markdown",
   "metadata": {},
   "source": [
    "* Memanggil Dataset"
   ]
  },
  {
   "cell_type": "code",
   "execution_count": 1,
   "metadata": {},
   "outputs": [],
   "source": [
    "import pandas as pd\n",
    "from kmodes.kmodes import KModes\n",
    "import numpy as np"
   ]
  },
  {
   "cell_type": "code",
   "execution_count": null,
   "metadata": {},
   "outputs": [],
   "source": [
    "DATA_TA = pd.read_excel(\"Data_gabung _filter.xlsx\")"
   ]
  },
  {
   "cell_type": "code",
   "execution_count": null,
   "metadata": {
    "scrolled": true
   },
   "outputs": [],
   "source": [
    "DATA_TA"
   ]
  },
  {
   "cell_type": "code",
   "execution_count": null,
   "metadata": {},
   "outputs": [],
   "source": [
    "print(DATA_TA.dtypes)"
   ]
  },
  {
   "cell_type": "markdown",
   "metadata": {},
   "source": [
    "* Mengubah type data ke kategorik"
   ]
  },
  {
   "cell_type": "code",
   "execution_count": null,
   "metadata": {},
   "outputs": [],
   "source": [
    "DATA_TA[['Jumlah Anggota Rumah Tangga (ART)','Jumlah Keluarga','Status bangunan tempat tinggal','Status lahan tempat tinggal','Jenis lantai terluas',\n",
    "         'Jenis dinding terluas','Kondisi dinding','Jenis atap terluas','Kondisi atap','Jumlah kamar tidur','Sumber air minum',\n",
    "         'Cara memperoleh air minum','Sumber penerangan utama','Daya listrik terpasang','Bahan bakar untuk memasak',\n",
    "         'Penggunaan fasilitas BAB','Jenis kloset','Tempat pembuangan akhir tinja','Tabung gas 5,5kg atau lebih','Lemari es/kulkas',\n",
    "         'AC','Pemanas air','Televisi','Emas/perhiasan/tabungan','Komputer','Sepeda','Sepeda motor','Mobil','Perahu','Motor tempel',\n",
    "         'Perahu motor','Kapal','Aset lahan','Rumah di tempat lain','ART memiliki usaha sendiri/bersama','Status Kesejahteraan']] =DATA_TA[[\n",
    "            'Jumlah Anggota Rumah Tangga (ART)','Jumlah Keluarga','Status bangunan tempat tinggal','Status lahan tempat tinggal','Jenis lantai terluas',\n",
    "             'Jenis dinding terluas','Kondisi dinding','Jenis atap terluas','Kondisi atap','Jumlah kamar tidur','Sumber air minum',\n",
    "             'Cara memperoleh air minum','Sumber penerangan utama','Daya listrik terpasang','Bahan bakar untuk memasak',\n",
    "             'Penggunaan fasilitas BAB','Jenis kloset','Tempat pembuangan akhir tinja','Tabung gas 5,5kg atau lebih','Lemari es/kulkas',\n",
    "             'AC','Pemanas air','Televisi','Emas/perhiasan/tabungan','Komputer','Sepeda','Sepeda motor','Mobil','Perahu','Motor tempel',\n",
    "             'Perahu motor','Kapal','Aset lahan','Rumah di tempat lain','ART memiliki usaha sendiri/bersama','Status Kesejahteraan']].astype('category')"
   ]
  },
  {
   "cell_type": "code",
   "execution_count": null,
   "metadata": {},
   "outputs": [],
   "source": [
    "print(DATA_TA.dtypes)"
   ]
  },
  {
   "cell_type": "markdown",
   "metadata": {},
   "source": [
    "* Mendeteksi data duplikat"
   ]
  },
  {
   "cell_type": "code",
   "execution_count": null,
   "metadata": {},
   "outputs": [],
   "source": [
    "duplicate_rows = DATA_TA[DATA_TA.duplicated()]\n",
    "duplicate_rows"
   ]
  },
  {
   "cell_type": "code",
   "execution_count": null,
   "metadata": {},
   "outputs": [],
   "source": [
    "DATA_TA_CLEAN= DATA_TA.drop_duplicates()\n",
    "duplicate_rows = DATA_TA_CLEAN[DATA_TA_CLEAN.duplicated()]\n",
    "duplicate_rows"
   ]
  },
  {
   "cell_type": "code",
   "execution_count": null,
   "metadata": {},
   "outputs": [],
   "source": [
    "DATA_TA_CLEAN.describe(2)"
   ]
  },
  {
   "cell_type": "code",
   "execution_count": null,
   "metadata": {},
   "outputs": [],
   "source": [
    "array = np.asarray(DATA_TA_CLEAN)\n",
    "array"
   ]
  },
  {
   "cell_type": "code",
   "execution_count": null,
   "metadata": {},
   "outputs": [],
   "source": []
  }
 ],
 "metadata": {
  "kernelspec": {
   "display_name": "Python 3 (ipykernel)",
   "language": "python",
   "name": "python3"
  },
  "language_info": {
   "codemirror_mode": {
    "name": "ipython",
    "version": 3
   },
   "file_extension": ".py",
   "mimetype": "text/x-python",
   "name": "python",
   "nbconvert_exporter": "python",
   "pygments_lexer": "ipython3",
   "version": "3.11.5"
  }
 },
 "nbformat": 4,
 "nbformat_minor": 4
}
